{
 "cells": [
  {
   "cell_type": "markdown",
   "metadata": {},
   "source": [
    "Ths project involves a detailed landscape character analysis of Ghana, with focus on the biophysical attributes.\n",
    "This includes an analysis and assessment of precipitation-Evapotranspiration index and Land Cover datasets.\n",
    "The timeframe for which data would be obtained is from (2021-01-01) to (2022- 01 - 01). Over a span of one year\n",
    "Raster data for analysis and visualization would be otained from Google's Earth Engine via the python earth engine library\n",
    "For visualization, geemap would be used for a visual representations of the biophysical attributes. "
   ]
  },
  {
   "cell_type": "code",
   "execution_count": null,
   "metadata": {},
   "outputs": [],
   "source": []
  },
  {
   "cell_type": "markdown",
   "metadata": {},
   "source": [
    "BREAKDOWN OF THE TASK FOR THE LANDSCAPE CHARACTER ASSESSMENT\n",
    "\n",
    "1. Defining the geographical extent of the region to be analyzed.\n",
    "2. Acquiring relevant geospatial raster datasets for analysis\n",
    "3. Preprocessing the acquired datasets for analysis\n",
    "4. Performing the landscape character assessment using advanced geospatial techniques, functions and tools\n",
    "5. Visualizing and communicating the findings using a suitable python visualization library "
   ]
  },
  {
   "cell_type": "code",
   "execution_count": null,
   "metadata": {},
   "outputs": [],
   "source": []
  },
  {
   "cell_type": "markdown",
   "metadata": {},
   "source": [
    "I tried authenticating earth engine in a jupyter notebook (in this environment), but the verification box wouldn't appear to paste the code in.\n",
    "Had to try the authentication in a different IDE which worked. The authentication code is in a python file name (pp.py) in this directory"
   ]
  },
  {
   "cell_type": "code",
   "execution_count": null,
   "metadata": {},
   "outputs": [],
   "source": []
  },
  {
   "cell_type": "code",
   "execution_count": 26,
   "metadata": {},
   "outputs": [
    {
     "data": {
      "text/html": [
       "\n",
       "            <style>\n",
       "                .geemap-dark {\n",
       "                    --jp-widgets-color: white;\n",
       "                    --jp-widgets-label-color: white;\n",
       "                    --jp-ui-font-color1: white;\n",
       "                    --jp-layout-color2: #454545;\n",
       "                    background-color: #383838;\n",
       "                }\n",
       "\n",
       "                .geemap-dark .jupyter-button {\n",
       "                    --jp-layout-color3: #383838;\n",
       "                }\n",
       "\n",
       "                .geemap-colab {\n",
       "                    background-color: var(--colab-primary-surface-color, white);\n",
       "                }\n",
       "\n",
       "                .geemap-colab .jupyter-button {\n",
       "                    --jp-layout-color3: var(--colab-primary-surface-color, white);\n",
       "                }\n",
       "            </style>\n",
       "            "
      ],
      "text/plain": [
       "<IPython.core.display.HTML object>"
      ]
     },
     "metadata": {},
     "output_type": "display_data"
    }
   ],
   "source": [
    "# import necessary libraries to be used\n",
    "\n",
    "import ee\n",
    "import geemap"
   ]
  },
  {
   "cell_type": "code",
   "execution_count": 27,
   "metadata": {},
   "outputs": [
    {
     "data": {
      "text/html": [
       "\n",
       "            <style>\n",
       "                .geemap-dark {\n",
       "                    --jp-widgets-color: white;\n",
       "                    --jp-widgets-label-color: white;\n",
       "                    --jp-ui-font-color1: white;\n",
       "                    --jp-layout-color2: #454545;\n",
       "                    background-color: #383838;\n",
       "                }\n",
       "\n",
       "                .geemap-dark .jupyter-button {\n",
       "                    --jp-layout-color3: #383838;\n",
       "                }\n",
       "\n",
       "                .geemap-colab {\n",
       "                    background-color: var(--colab-primary-surface-color, white);\n",
       "                }\n",
       "\n",
       "                .geemap-colab .jupyter-button {\n",
       "                    --jp-layout-color3: var(--colab-primary-surface-color, white);\n",
       "                }\n",
       "            </style>\n",
       "            "
      ],
      "text/plain": [
       "<IPython.core.display.HTML object>"
      ]
     },
     "metadata": {},
     "output_type": "display_data"
    }
   ],
   "source": [
    "ee.Initialize(project = 'ee-reginadowlings')"
   ]
  },
  {
   "cell_type": "code",
   "execution_count": 28,
   "metadata": {},
   "outputs": [
    {
     "data": {
      "text/html": [
       "\n",
       "            <style>\n",
       "                .geemap-dark {\n",
       "                    --jp-widgets-color: white;\n",
       "                    --jp-widgets-label-color: white;\n",
       "                    --jp-ui-font-color1: white;\n",
       "                    --jp-layout-color2: #454545;\n",
       "                    background-color: #383838;\n",
       "                }\n",
       "\n",
       "                .geemap-dark .jupyter-button {\n",
       "                    --jp-layout-color3: #383838;\n",
       "                }\n",
       "\n",
       "                .geemap-colab {\n",
       "                    background-color: var(--colab-primary-surface-color, white);\n",
       "                }\n",
       "\n",
       "                .geemap-colab .jupyter-button {\n",
       "                    --jp-layout-color3: var(--colab-primary-surface-color, white);\n",
       "                }\n",
       "            </style>\n",
       "            "
      ],
      "text/plain": [
       "<IPython.core.display.HTML object>"
      ]
     },
     "metadata": {},
     "output_type": "display_data"
    }
   ],
   "source": [
    "# Defining the region of interest (Ghana)\n",
    "\n",
    "ghana = ee.Geometry.Rectangle([-3.317, 4.730, 1.192, 11.174])\n"
   ]
  },
  {
   "cell_type": "markdown",
   "metadata": {},
   "source": [
    "ACQUIRNG THE DATA SETS FROM EARTH ENGINE'S API. THIS DATA SETS INCLUDES ( precipitation-Evapotranspiration  index and Land Cover)"
   ]
  },
  {
   "cell_type": "code",
   "execution_count": 29,
   "metadata": {},
   "outputs": [
    {
     "data": {
      "text/html": [
       "\n",
       "            <style>\n",
       "                .geemap-dark {\n",
       "                    --jp-widgets-color: white;\n",
       "                    --jp-widgets-label-color: white;\n",
       "                    --jp-ui-font-color1: white;\n",
       "                    --jp-layout-color2: #454545;\n",
       "                    background-color: #383838;\n",
       "                }\n",
       "\n",
       "                .geemap-dark .jupyter-button {\n",
       "                    --jp-layout-color3: #383838;\n",
       "                }\n",
       "\n",
       "                .geemap-colab {\n",
       "                    background-color: var(--colab-primary-surface-color, white);\n",
       "                }\n",
       "\n",
       "                .geemap-colab .jupyter-button {\n",
       "                    --jp-layout-color3: var(--colab-primary-surface-color, white);\n",
       "                }\n",
       "            </style>\n",
       "            "
      ],
      "text/plain": [
       "<IPython.core.display.HTML object>"
      ]
     },
     "metadata": {},
     "output_type": "display_data"
    },
    {
     "data": {
      "application/vnd.jupyter.widget-view+json": {
       "model_id": "fadf3e587455490e8bbdbbcc22e1fe15",
       "version_major": 2,
       "version_minor": 0
      },
      "text/plain": [
       "Map(center=[8.3463813, -1.2661157], controls=(WidgetControl(options=['position', 'transparent_bg'], widget=Sea…"
      ]
     },
     "execution_count": 29,
     "metadata": {},
     "output_type": "execute_result"
    }
   ],
   "source": [
    "#Obtaining the precipitation-evapotranspiration  index of Ghana within the timeframe\n",
    "\n",
    "# retrieving dataset from the SPEI database (Standardised Precipitation-Evapotranspiration Index database) on earth engine\n",
    "pre_eva = ee.ImageCollection(\"CSIC/SPEI/2_9\")\\\n",
    ".filterDate('2021-01-01' ,'2022-01-01')\n",
    "\n",
    "\n",
    "# selecting data for 12-months analysis\n",
    "analysis = pre_eva.select('SPEI_12_month')\n",
    "\n",
    "\n",
    "#  Set the visualization ranges and color palette.\n",
    "visParams = {\n",
    "  'min': -2.33,\n",
    "  'max':  2.33,\n",
    "  'palette' : ['8b1a1a', 'de2929', 'f3641d',\n",
    "    'fdc404', '9afa94', '03f2fd',\n",
    "    '12adf3', '1771de', '00008b',\n",
    "      \n",
    "  ]\n",
    "\n",
    "}\n",
    "\n",
    "# selecting the region of interest against the data\n",
    "gh_spei = analysis.filterBounds(ghana)\n",
    "\n",
    "\n",
    "# centering the map\n",
    "center_map = geemap.Map(center = [8.3463813, -1.2661157], zoom= 6 )\n",
    "\n",
    "\n",
    "# lets visualize the map of Ghana\n",
    "spei_layer = \"SPEI_12_MONTHS\"\n",
    "center_map.add_layer(analysis, visParams, spei_layer)\n",
    "center_map.add_layer(ghana, {'color': 'black'}, 'Ghana demarcation')\n",
    "\n",
    "center_map"
   ]
  },
  {
   "cell_type": "code",
   "execution_count": null,
   "metadata": {},
   "outputs": [],
   "source": []
  },
  {
   "cell_type": "code",
   "execution_count": 30,
   "metadata": {},
   "outputs": [
    {
     "data": {
      "text/html": [
       "\n",
       "            <style>\n",
       "                .geemap-dark {\n",
       "                    --jp-widgets-color: white;\n",
       "                    --jp-widgets-label-color: white;\n",
       "                    --jp-ui-font-color1: white;\n",
       "                    --jp-layout-color2: #454545;\n",
       "                    background-color: #383838;\n",
       "                }\n",
       "\n",
       "                .geemap-dark .jupyter-button {\n",
       "                    --jp-layout-color3: #383838;\n",
       "                }\n",
       "\n",
       "                .geemap-colab {\n",
       "                    background-color: var(--colab-primary-surface-color, white);\n",
       "                }\n",
       "\n",
       "                .geemap-colab .jupyter-button {\n",
       "                    --jp-layout-color3: var(--colab-primary-surface-color, white);\n",
       "                }\n",
       "            </style>\n",
       "            "
      ],
      "text/plain": [
       "<IPython.core.display.HTML object>"
      ]
     },
     "metadata": {},
     "output_type": "display_data"
    }
   ],
   "source": [
    "# Saving the map as an html file Can be viewd by pasting link in a web browser  \n",
    "\n",
    "out_html = \"centre_map.html\"\n",
    "\n",
    "center_map.to_html(out_html)\n",
    "\n",
    "\n",
    "link_to_view_map = \"file:///C:/Users/acer/Documents/GIS%20Projects/landscape_character_assessment/centre_map.html\""
   ]
  },
  {
   "cell_type": "markdown",
   "metadata": {},
   "source": [
    "Analysing the datasets of the precipitation-evapotranspiration index"
   ]
  },
  {
   "cell_type": "markdown",
   "metadata": {},
   "source": [
    "SPEI VALUES\n",
    "\n",
    "2.0+ = extremely wet      <>      1.5 to 1.99= very wet    <>  1.0 to 1.49 =moderately wet   <>  -.99 to .99 =near normal    <>\n",
    "-1.0 to -1.49 = moderately dry    <>    -1.5 to -1.99 = severely dry     <>   -2 and less= extremely dry"
   ]
  },
  {
   "cell_type": "code",
   "execution_count": 31,
   "metadata": {},
   "outputs": [
    {
     "data": {
      "text/html": [
       "\n",
       "            <style>\n",
       "                .geemap-dark {\n",
       "                    --jp-widgets-color: white;\n",
       "                    --jp-widgets-label-color: white;\n",
       "                    --jp-ui-font-color1: white;\n",
       "                    --jp-layout-color2: #454545;\n",
       "                    background-color: #383838;\n",
       "                }\n",
       "\n",
       "                .geemap-dark .jupyter-button {\n",
       "                    --jp-layout-color3: #383838;\n",
       "                }\n",
       "\n",
       "                .geemap-colab {\n",
       "                    background-color: var(--colab-primary-surface-color, white);\n",
       "                }\n",
       "\n",
       "                .geemap-colab .jupyter-button {\n",
       "                    --jp-layout-color3: var(--colab-primary-surface-color, white);\n",
       "                }\n",
       "            </style>\n",
       "            "
      ],
      "text/plain": [
       "<IPython.core.display.HTML object>"
      ]
     },
     "metadata": {},
     "output_type": "display_data"
    },
    {
     "data": {
      "application/vnd.jupyter.widget-view+json": {
       "model_id": "f87b5837c5db416fad0e15630261ad1a",
       "version_major": 2,
       "version_minor": 0
      },
      "text/plain": [
       "Map(center=[8.3463813, -1.2661157], controls=(WidgetControl(options=['position', 'transparent_bg'], widget=Sea…"
      ]
     },
     "execution_count": 31,
     "metadata": {},
     "output_type": "execute_result"
    }
   ],
   "source": [
    "threshold = -2\n",
    "\n",
    "# Filter SPEI data to show only values above the threshold\n",
    "spei_filtered = gh_spei.map(lambda img: img.updateMask(img.gt(threshold)))\n",
    "\n",
    "\n",
    "# setting a legend \n",
    "legend_info = {\n",
    "    '>2.0' : '#00008b',\n",
    "    '1.5 to 1.99' : '#1771de',\n",
    "    '1.0 to 1.49' : '#12adf3',\n",
    "    '-.99 to .99' : '#9afa94',\n",
    "    '-1.0 to -1.49': '#f3641d',\n",
    "    '-1.5 to -1.99' : '#de2929',\n",
    "    '< -2' : '#8b1a1a'\n",
    "} \n",
    "\n",
    "\n",
    "# Display the filtered SPEI data\n",
    "spei_analysis = geemap.Map(center = [8.3463813, -1.2661157], zoom= 6)\n",
    "\n",
    "spei_analysis.addLayer(spei_filtered, visParams, 'Filtered SPEI 12 month Analysis')\n",
    "spei_analysis.addLayer(ghana, {'color': 'black'}, 'ROI')\n",
    "spei_analysis.add_legend(title= 'SPEI Value Legend', legend_dict= legend_info, position='topright', draggable=True, in_place =True)\n",
    "\n",
    "spei_analysis"
   ]
  },
  {
   "cell_type": "markdown",
   "metadata": {},
   "source": [
    "INTERPRETATION\n",
    "\n",
    "The blue color at the south-western part of Ghana indicates moderately wet as it is the forest belt of Ghana endowed with many trees and tropical rain forests. However, the orange and yellow traces at the northern part of the country known as the Savannah belt is moderately dry and relatively hot with litle to no rain, indicating a negative spei index."
   ]
  },
  {
   "cell_type": "code",
   "execution_count": 32,
   "metadata": {},
   "outputs": [
    {
     "data": {
      "text/html": [
       "\n",
       "            <style>\n",
       "                .geemap-dark {\n",
       "                    --jp-widgets-color: white;\n",
       "                    --jp-widgets-label-color: white;\n",
       "                    --jp-ui-font-color1: white;\n",
       "                    --jp-layout-color2: #454545;\n",
       "                    background-color: #383838;\n",
       "                }\n",
       "\n",
       "                .geemap-dark .jupyter-button {\n",
       "                    --jp-layout-color3: #383838;\n",
       "                }\n",
       "\n",
       "                .geemap-colab {\n",
       "                    background-color: var(--colab-primary-surface-color, white);\n",
       "                }\n",
       "\n",
       "                .geemap-colab .jupyter-button {\n",
       "                    --jp-layout-color3: var(--colab-primary-surface-color, white);\n",
       "                }\n",
       "            </style>\n",
       "            "
      ],
      "text/plain": [
       "<IPython.core.display.HTML object>"
      ]
     },
     "metadata": {},
     "output_type": "display_data"
    }
   ],
   "source": [
    "# Saving the map as an html file. Can be viewd by pasting link in a web browser \n",
    "\n",
    "saving_map = \"spei_analysis.html\"\n",
    "\n",
    "spei_analysis.to_html(saving_map)\n",
    "\n",
    "# link to view map\n",
    "link = \"file:///C:/Users/acer/Documents/GIS%20Projects/landscape_character_assessment/spei_analysis.html\""
   ]
  },
  {
   "cell_type": "markdown",
   "metadata": {},
   "source": [
    "Obtaining and analysing land cover datasets     "
   ]
  },
  {
   "cell_type": "code",
   "execution_count": 33,
   "metadata": {},
   "outputs": [
    {
     "data": {
      "text/html": [
       "\n",
       "            <style>\n",
       "                .geemap-dark {\n",
       "                    --jp-widgets-color: white;\n",
       "                    --jp-widgets-label-color: white;\n",
       "                    --jp-ui-font-color1: white;\n",
       "                    --jp-layout-color2: #454545;\n",
       "                    background-color: #383838;\n",
       "                }\n",
       "\n",
       "                .geemap-dark .jupyter-button {\n",
       "                    --jp-layout-color3: #383838;\n",
       "                }\n",
       "\n",
       "                .geemap-colab {\n",
       "                    background-color: var(--colab-primary-surface-color, white);\n",
       "                }\n",
       "\n",
       "                .geemap-colab .jupyter-button {\n",
       "                    --jp-layout-color3: var(--colab-primary-surface-color, white);\n",
       "                }\n",
       "            </style>\n",
       "            "
      ],
      "text/plain": [
       "<IPython.core.display.HTML object>"
      ]
     },
     "metadata": {},
     "output_type": "display_data"
    },
    {
     "data": {
      "application/vnd.jupyter.widget-view+json": {
       "model_id": "1e8246738be74e7ab8495c5a4eb04a3b",
       "version_major": 2,
       "version_minor": 0
      },
      "text/plain": [
       "Map(center=[8.3463813, -1.2661157], controls=(WidgetControl(options=['position', 'transparent_bg'], widget=Sea…"
      ]
     },
     "execution_count": 33,
     "metadata": {},
     "output_type": "execute_result"
    }
   ],
   "source": [
    "# reading the land cover data from copernicus, filtering out the roi, date frame and cloud  cover \n",
    "\n",
    "land_cover = ee.ImageCollection(\"LANDSAT/LC08/C02/T1_L2\")\\\n",
    ".filterDate('2021-01-01', '2022-01-01') \\\n",
    ".filterBounds(ghana)\n",
    "\n",
    "\n",
    "\n",
    "# Applies scaling factors.\n",
    "def apply_scale_factors(image):\n",
    "  optical_bands = image.select('SR_B.').multiply(0.0000275).add(-0.2)\n",
    "  thermal_bands = image.select('ST_B.*').multiply(0.00341802).add(149.0)\n",
    "  return image.addBands(optical_bands, None, True).addBands(\n",
    "      thermal_bands, None, True\n",
    "  )\n",
    "\n",
    "land_cover = land_cover.map(apply_scale_factors)\n",
    "\n",
    "\n",
    "# removing cloud contamination, defining a function to mask out cloudy pixels\n",
    "def maskClouds(image):\n",
    "    qa = image.select('QA_PIXEL')\n",
    "    # Create a mask to identify cloudy pixels (bit 4 for clouds)\n",
    "    cloud_mask = qa.bitwiseAnd(1 << 4).eq(0)\n",
    "    # Apply the mask to the image\n",
    "    return image.updateMask(cloud_mask)\n",
    "\n",
    "\n",
    "# Applying the cloud mask function to each image in the collection\n",
    "landsat_masked = land_cover.map(maskClouds)\n",
    "\n",
    "\n",
    "# Take the median of the masked images to create a cloud-free composite\n",
    "composite = landsat_masked.median()\n",
    "\n",
    "\n",
    "# colors for map to be visualized in\n",
    "visualization = {\n",
    "    'bands': ['SR_B4', 'SR_B3', 'SR_B2'],\n",
    "    'min': 0.0,\n",
    "    'max': 0.3,\n",
    "}\n",
    "\n",
    "\n",
    "lc_map = geemap.Map(center = [8.3463813, -1.2661157], zoom= 6)\n",
    "\n",
    "lc_map.add_layer(ghana, {}, 'Ghana')\n",
    "lc_map.add_layer(composite, visualization, 'Landsat')\n",
    "\n",
    "lc_map"
   ]
  },
  {
   "cell_type": "code",
   "execution_count": 34,
   "metadata": {},
   "outputs": [
    {
     "data": {
      "text/html": [
       "\n",
       "            <style>\n",
       "                .geemap-dark {\n",
       "                    --jp-widgets-color: white;\n",
       "                    --jp-widgets-label-color: white;\n",
       "                    --jp-ui-font-color1: white;\n",
       "                    --jp-layout-color2: #454545;\n",
       "                    background-color: #383838;\n",
       "                }\n",
       "\n",
       "                .geemap-dark .jupyter-button {\n",
       "                    --jp-layout-color3: #383838;\n",
       "                }\n",
       "\n",
       "                .geemap-colab {\n",
       "                    background-color: var(--colab-primary-surface-color, white);\n",
       "                }\n",
       "\n",
       "                .geemap-colab .jupyter-button {\n",
       "                    --jp-layout-color3: var(--colab-primary-surface-color, white);\n",
       "                }\n",
       "            </style>\n",
       "            "
      ],
      "text/plain": [
       "<IPython.core.display.HTML object>"
      ]
     },
     "metadata": {},
     "output_type": "display_data"
    }
   ],
   "source": [
    "# Saving the map as an html file. Can be viewd by pasting link in a web browser \n",
    "\n",
    "output_html = \"lc_map.html\"\n",
    "\n",
    "lc_map.to_html(output_html)\n",
    "\n",
    "view_map = \"file:///C:/Users/acer/Documents/GIS%20Projects/landscape_character_assessment/lc_map.html\""
   ]
  },
  {
   "cell_type": "markdown",
   "metadata": {},
   "source": [
    "Analysing the land cover datasets.\n",
    "The project expects to identify and categorize land cover types such as dense, medium, and sparse vegetation\n",
    "and rocky areas. With this, the NDVI (Normalized Difference Vegetation Index) would be used to calculate the vegetation types. It is used to quantify vegetation greenness. "
   ]
  },
  {
   "cell_type": "code",
   "execution_count": null,
   "metadata": {},
   "outputs": [],
   "source": []
  },
  {
   "cell_type": "markdown",
   "metadata": {},
   "source": [
    "Formula for calculating vegetation types using NDVI is;  NDVI = (Band 5 - Band 4) / (Band 5 + Band 4) \n",
    "\n",
    "\n",
    "NDVI = (NIR + Red) / (NIR−Red)  Where NIR (Near -Infrared Radiation) is Band 5  and Red is band 4\n",
    "\n",
    "NB :: Very low values of NDVI (0.1 and below) correspond to barren areas of rock, sand, or snow. \n",
    "Moderate values represent shrub and grassland (0.2 to 0.3), while high values indicate temperate and tropical rainforests (0.6 to 0.8).\n"
   ]
  },
  {
   "cell_type": "code",
   "execution_count": 35,
   "metadata": {},
   "outputs": [
    {
     "data": {
      "text/html": [
       "\n",
       "            <style>\n",
       "                .geemap-dark {\n",
       "                    --jp-widgets-color: white;\n",
       "                    --jp-widgets-label-color: white;\n",
       "                    --jp-ui-font-color1: white;\n",
       "                    --jp-layout-color2: #454545;\n",
       "                    background-color: #383838;\n",
       "                }\n",
       "\n",
       "                .geemap-dark .jupyter-button {\n",
       "                    --jp-layout-color3: #383838;\n",
       "                }\n",
       "\n",
       "                .geemap-colab {\n",
       "                    background-color: var(--colab-primary-surface-color, white);\n",
       "                }\n",
       "\n",
       "                .geemap-colab .jupyter-button {\n",
       "                    --jp-layout-color3: var(--colab-primary-surface-color, white);\n",
       "                }\n",
       "            </style>\n",
       "            "
      ],
      "text/plain": [
       "<IPython.core.display.HTML object>"
      ]
     },
     "metadata": {},
     "output_type": "display_data"
    },
    {
     "data": {
      "application/vnd.jupyter.widget-view+json": {
       "model_id": "55b77c3f02744382833667c85ca515ee",
       "version_major": 2,
       "version_minor": 0
      },
      "text/plain": [
       "Map(center=[0, 0], controls=(WidgetControl(options=['position', 'transparent_bg'], widget=SearchDataGUI(childr…"
      ]
     },
     "execution_count": 35,
     "metadata": {},
     "output_type": "execute_result"
    }
   ],
   "source": [
    "# creating a function to calculate NDVI\n",
    "\n",
    "def ndvi(image):\n",
    "    \n",
    "    b5 = image.select('SR_B5')  # NIR band (band 5)\n",
    "    b4 = image.select('SR_B4')  # Red band (band 4)\n",
    "\n",
    "    # Calculate NDVI\n",
    "    ndvi = b5.subtract(b4).divide(b5.add(b4)).rename('NDVI')\n",
    "\n",
    "    return image.addBands(ndvi)\n",
    "\n",
    "\n",
    "# applying the ndvi function on the land cover data\n",
    "l8_ndvi = landsat_masked.map(ndvi)\n",
    "\n",
    "\n",
    "# Visualizing the NDVI image\n",
    "visparameters = {\n",
    "    'min': -1,\n",
    "    'max': 1,\n",
    "    'bands': ['NDVI'],\n",
    "    'palette': ['#e5f5f9', '#feb24c', '#31a354']\n",
    "\n",
    "}\n",
    "\n",
    "\n",
    "# setting a legend\n",
    "legend_dict = {\n",
    "    '<0.1' : '#e5f5f9',\n",
    "    '>= 0.2 and <= 0.3' : '#feb24c',\n",
    "    '>= 0.6 and <= 0.8' : '#31a354'\n",
    "\n",
    "} \n",
    "\n",
    "\n",
    "# get the median of the image collection\n",
    "median = l8_ndvi.median()\n",
    "\n",
    "# plotiing the map\n",
    "ndvi_map = geemap.Map(zoom= 5)\n",
    "\n",
    "ndvi_map.add_layer(ghana, {}, 'Ghana')\n",
    "ndvi_map.add_layer(median, visparameters, 'Vegetation Map')\n",
    "ndvi_map.add_legend(title= 'NDVI Legend', legend_dict= legend_dict, position='bottomright', draggable=True)\n",
    "\n",
    "\n",
    "ndvi_map "
   ]
  },
  {
   "cell_type": "markdown",
   "metadata": {},
   "source": [
    "From the map displayed above, within a span of a year, the green areas show dense vegatation or land cover. This is mostly seen at the western, southern and Eastern parts of Ghana. However, the northern part records a medium vegetation cover due to it's location, high amount of solar heat and less rain in this region. Ghana is located in the tropical forest region hence, vegetation grows all year round, which is a reason for no white color\n",
    "traces in the map."
   ]
  },
  {
   "cell_type": "code",
   "execution_count": 36,
   "metadata": {},
   "outputs": [
    {
     "data": {
      "text/html": [
       "\n",
       "            <style>\n",
       "                .geemap-dark {\n",
       "                    --jp-widgets-color: white;\n",
       "                    --jp-widgets-label-color: white;\n",
       "                    --jp-ui-font-color1: white;\n",
       "                    --jp-layout-color2: #454545;\n",
       "                    background-color: #383838;\n",
       "                }\n",
       "\n",
       "                .geemap-dark .jupyter-button {\n",
       "                    --jp-layout-color3: #383838;\n",
       "                }\n",
       "\n",
       "                .geemap-colab {\n",
       "                    background-color: var(--colab-primary-surface-color, white);\n",
       "                }\n",
       "\n",
       "                .geemap-colab .jupyter-button {\n",
       "                    --jp-layout-color3: var(--colab-primary-surface-color, white);\n",
       "                }\n",
       "            </style>\n",
       "            "
      ],
      "text/plain": [
       "<IPython.core.display.HTML object>"
      ]
     },
     "metadata": {},
     "output_type": "display_data"
    }
   ],
   "source": [
    "# Saving the map as an html file. Can be viewd by pasting link in a web browser \n",
    "output_map = \"ndvi_map.html\"\n",
    "\n",
    "ndvi_map.to_html(output_map)\n",
    "\n",
    "map_link = \"file:///C:/Users/acer/Documents/GIS%20Projects/landscape_character_assessment/ndvi_map.html\""
   ]
  },
  {
   "cell_type": "code",
   "execution_count": null,
   "metadata": {},
   "outputs": [],
   "source": []
  },
  {
   "cell_type": "markdown",
   "metadata": {},
   "source": [
    "Downloading climate dataset with region of interest being GHANA. Analysis of the data would be done in QGIS  \n",
    "Data would be obtained from MOD11A1.061 Terra Land Surface Temperature and Emissivity Daily Global 1km "
   ]
  },
  {
   "cell_type": "code",
   "execution_count": 46,
   "metadata": {},
   "outputs": [
    {
     "data": {
      "text/html": [
       "\n",
       "            <style>\n",
       "                .geemap-dark {\n",
       "                    --jp-widgets-color: white;\n",
       "                    --jp-widgets-label-color: white;\n",
       "                    --jp-ui-font-color1: white;\n",
       "                    --jp-layout-color2: #454545;\n",
       "                    background-color: #383838;\n",
       "                }\n",
       "\n",
       "                .geemap-dark .jupyter-button {\n",
       "                    --jp-layout-color3: #383838;\n",
       "                }\n",
       "\n",
       "                .geemap-colab {\n",
       "                    background-color: var(--colab-primary-surface-color, white);\n",
       "                }\n",
       "\n",
       "                .geemap-colab .jupyter-button {\n",
       "                    --jp-layout-color3: var(--colab-primary-surface-color, white);\n",
       "                }\n",
       "            </style>\n",
       "            "
      ],
      "text/plain": [
       "<IPython.core.display.HTML object>"
      ]
     },
     "metadata": {},
     "output_type": "display_data"
    },
    {
     "data": {
      "application/vnd.jupyter.widget-view+json": {
       "model_id": "8f5dd176431b431184c9b9cd78ddae77",
       "version_major": 2,
       "version_minor": 0
      },
      "text/plain": [
       "Map(center=[8.3463813, -1.2661157], controls=(WidgetControl(options=['position', 'transparent_bg'], widget=Sea…"
      ]
     },
     "execution_count": 46,
     "metadata": {},
     "output_type": "execute_result"
    }
   ],
   "source": [
    "# Obtaining the surface temperature of Ghana from September 2023 - December 2023 and January 2024 - April 2024\n",
    "# Calculating the mean temperatures and clippping the region of interest on the image collection \n",
    "\n",
    "# temperature for 2023\n",
    "temperature_dataset23 = ee.ImageCollection(\"MODIS/061/MOD11A1\")\\\n",
    ".filterDate('2023-09-01', '2023-12-31') \\\n",
    ".filterBounds(ghana)\\\n",
    ".map(lambda image: image.clip(ghana))\n",
    "\n",
    "# selecting bands and the mean temperature of the time period\n",
    "surface_temperature = temperature_dataset23.select('LST_Day_1km')\n",
    "mean_temp23 = surface_temperature.mean()\n",
    "\n",
    "\n",
    "# visualizing the data as a map\n",
    "temperature_visual = {\n",
    "    'min': 13000.0,\n",
    "    'max': 16500.0,\n",
    "    'band': mean_temp23,\n",
    "    'palette': [\n",
    "    '040274', '040281', '0502a3', '0502b8', '0502ce', '0502e6',\n",
    "    '0602ff', '235cb1', '307ef3', '269db1', '30c8e2', '32d3ef',\n",
    "    '3be285', '3ff38f', '86e26f', '3ae237', 'b5e22e', 'd6e21f',\n",
    "    'fff705', 'ffd611', 'ffb613', 'ff8b13', 'ff6e08', 'ff500d',\n",
    "    'ff0000', 'de0101', 'c21301', 'a71001', '911003'\n",
    "  ]\n",
    "    \n",
    "}\n",
    " \n",
    "# setting map parameters\n",
    "\n",
    "temp_map = geemap.Map(center = [8.3463813, -1.2661157], zoom= 6)\n",
    "\n",
    "temp_map.add_layer(mean_temp23, temperature_visual, 'Land Surface Temperature')\n",
    "\n",
    "\n",
    "temp_map"
   ]
  },
  {
   "cell_type": "markdown",
   "metadata": {},
   "source": []
  },
  {
   "cell_type": "code",
   "execution_count": 47,
   "metadata": {},
   "outputs": [
    {
     "data": {
      "text/html": [
       "\n",
       "            <style>\n",
       "                .geemap-dark {\n",
       "                    --jp-widgets-color: white;\n",
       "                    --jp-widgets-label-color: white;\n",
       "                    --jp-ui-font-color1: white;\n",
       "                    --jp-layout-color2: #454545;\n",
       "                    background-color: #383838;\n",
       "                }\n",
       "\n",
       "                .geemap-dark .jupyter-button {\n",
       "                    --jp-layout-color3: #383838;\n",
       "                }\n",
       "\n",
       "                .geemap-colab {\n",
       "                    background-color: var(--colab-primary-surface-color, white);\n",
       "                }\n",
       "\n",
       "                .geemap-colab .jupyter-button {\n",
       "                    --jp-layout-color3: var(--colab-primary-surface-color, white);\n",
       "                }\n",
       "            </style>\n",
       "            "
      ],
      "text/plain": [
       "<IPython.core.display.HTML object>"
      ]
     },
     "metadata": {},
     "output_type": "display_data"
    },
    {
     "data": {
      "application/vnd.jupyter.widget-view+json": {
       "model_id": "ae2e158f2d7f4ffba976644e6479e77a",
       "version_major": 2,
       "version_minor": 0
      },
      "text/plain": [
       "Map(center=[8.3463813, -1.2661157], controls=(WidgetControl(options=['position', 'transparent_bg'], widget=Sea…"
      ]
     },
     "execution_count": 47,
     "metadata": {},
     "output_type": "execute_result"
    }
   ],
   "source": [
    "# temperature for 2024\n",
    "\n",
    "temperature_dataset24 = ee.ImageCollection(\"MODIS/061/MOD11A1\")\\\n",
    ".filterDate('2024-01-01', '2024-04-30') \\\n",
    ".filterBounds(ghana)\\\n",
    ".map(lambda image: image.clip(ghana))\n",
    "\n",
    "# selecting bands and getting the mean temperature of the time period\n",
    "surface_temperature24 = temperature_dataset24.select('LST_Day_1km')\n",
    "mean_temp24 = surface_temperature24.mean()\n",
    "\n",
    "temp_map24 = geemap.Map(center = [8.3463813, -1.2661157], zoom= 6)\n",
    "\n",
    "temp_map24.add_layer(surface_temperature, temperature_visual, 'Land Surface Temperature')\n",
    "\n",
    "temp_map24"
   ]
  },
  {
   "cell_type": "code",
   "execution_count": 38,
   "metadata": {},
   "outputs": [
    {
     "data": {
      "text/html": [
       "\n",
       "            <style>\n",
       "                .geemap-dark {\n",
       "                    --jp-widgets-color: white;\n",
       "                    --jp-widgets-label-color: white;\n",
       "                    --jp-ui-font-color1: white;\n",
       "                    --jp-layout-color2: #454545;\n",
       "                    background-color: #383838;\n",
       "                }\n",
       "\n",
       "                .geemap-dark .jupyter-button {\n",
       "                    --jp-layout-color3: #383838;\n",
       "                }\n",
       "\n",
       "                .geemap-colab {\n",
       "                    background-color: var(--colab-primary-surface-color, white);\n",
       "                }\n",
       "\n",
       "                .geemap-colab .jupyter-button {\n",
       "                    --jp-layout-color3: var(--colab-primary-surface-color, white);\n",
       "                }\n",
       "            </style>\n",
       "            "
      ],
      "text/plain": [
       "<IPython.core.display.HTML object>"
      ]
     },
     "metadata": {},
     "output_type": "display_data"
    }
   ],
   "source": []
  },
  {
   "cell_type": "markdown",
   "metadata": {},
   "source": [
    "Exporting mean temperatures for 2023"
   ]
  },
  {
   "cell_type": "code",
   "execution_count": 50,
   "metadata": {},
   "outputs": [
    {
     "data": {
      "text/html": [
       "\n",
       "            <style>\n",
       "                .geemap-dark {\n",
       "                    --jp-widgets-color: white;\n",
       "                    --jp-widgets-label-color: white;\n",
       "                    --jp-ui-font-color1: white;\n",
       "                    --jp-layout-color2: #454545;\n",
       "                    background-color: #383838;\n",
       "                }\n",
       "\n",
       "                .geemap-dark .jupyter-button {\n",
       "                    --jp-layout-color3: #383838;\n",
       "                }\n",
       "\n",
       "                .geemap-colab {\n",
       "                    background-color: var(--colab-primary-surface-color, white);\n",
       "                }\n",
       "\n",
       "                .geemap-colab .jupyter-button {\n",
       "                    --jp-layout-color3: var(--colab-primary-surface-color, white);\n",
       "                }\n",
       "            </style>\n",
       "            "
      ],
      "text/plain": [
       "<IPython.core.display.HTML object>"
      ]
     },
     "metadata": {},
     "output_type": "display_data"
    }
   ],
   "source": [
    "export_task = ee.batch.Export.image.toDrive(**{\n",
    "    'image': mean_temp23,\n",
    "    'description': 'Mean Temperature of 2023',\n",
    "    'folder': 'Project',\n",
    "    'scale': 1000,\n",
    "    'region': ghana,\n",
    "    'fileFormat': 'GeoTIFF',\n",
    "    'crs': 'EPSG:4326'\n",
    "})\n",
    "export_task.start()\n"
   ]
  },
  {
   "cell_type": "markdown",
   "metadata": {},
   "source": [
    "Exporting the mean temperature for 2024"
   ]
  },
  {
   "cell_type": "code",
   "execution_count": 51,
   "metadata": {},
   "outputs": [
    {
     "data": {
      "text/html": [
       "\n",
       "            <style>\n",
       "                .geemap-dark {\n",
       "                    --jp-widgets-color: white;\n",
       "                    --jp-widgets-label-color: white;\n",
       "                    --jp-ui-font-color1: white;\n",
       "                    --jp-layout-color2: #454545;\n",
       "                    background-color: #383838;\n",
       "                }\n",
       "\n",
       "                .geemap-dark .jupyter-button {\n",
       "                    --jp-layout-color3: #383838;\n",
       "                }\n",
       "\n",
       "                .geemap-colab {\n",
       "                    background-color: var(--colab-primary-surface-color, white);\n",
       "                }\n",
       "\n",
       "                .geemap-colab .jupyter-button {\n",
       "                    --jp-layout-color3: var(--colab-primary-surface-color, white);\n",
       "                }\n",
       "            </style>\n",
       "            "
      ],
      "text/plain": [
       "<IPython.core.display.HTML object>"
      ]
     },
     "metadata": {},
     "output_type": "display_data"
    }
   ],
   "source": [
    "\n",
    "export_task = ee.batch.Export.image.toDrive(**{\n",
    "        'image': mean_temp24,\n",
    "        'description': 'Mean Temperature of 2024',\n",
    "        'folder': 'Project',\n",
    "        'scale': 1000,\n",
    "        'region': ghana,\n",
    "        'fileFormat': 'GeoTIFF',\n",
    "        'crs': 'EPSG:4326'\n",
    "})\n",
    "export_task.start()"
   ]
  },
  {
   "cell_type": "code",
   "execution_count": null,
   "metadata": {},
   "outputs": [],
   "source": [
    "# Exporting image collection \n",
    "\n",
    "\n",
    "\n",
    "# def export_image(image, index):\n",
    "#     export_task = ee.batch.Export.image.toDrive(**{\n",
    "#         'image': image,\n",
    "#         'description': f'LST_Day_1km_Clipped_{index}',\n",
    "#         'folder': 'Proect',\n",
    "#         'fileNamePrefix': f'LST_Day_1km_Clipped_{index}',\n",
    "#         'scale': 1000,\n",
    "#         'region': ghana,\n",
    "#         'fileFormat': 'GeoTIFF',\n",
    "#         'crs': 'EPSG:4326'\n",
    "#     })\n",
    "#     export_task.start()\n",
    "#     print(f\"Export task started for image {index}\")\n",
    "\n",
    "# # Export each image in the collection\n",
    "# image_list =mean_temp24.toList(mean_temp24.size())\n",
    "# num_images = image_list.size().getInfo()\n",
    "# print(f\"Number of images to export: {num_images}\")\n",
    "\n",
    "# for i in range(num_images):\n",
    "#     image = ee.Image(image_list.get(i))\n",
    "#     export_image(image, i)\n",
    "\n",
    "# print(\"All export tasks started. Check your Google Drive for the exported images.\")"
   ]
  },
  {
   "cell_type": "code",
   "execution_count": null,
   "metadata": {},
   "outputs": [],
   "source": []
  },
  {
   "cell_type": "code",
   "execution_count": null,
   "metadata": {},
   "outputs": [],
   "source": []
  },
  {
   "cell_type": "code",
   "execution_count": null,
   "metadata": {},
   "outputs": [],
   "source": []
  }
 ],
 "metadata": {
  "kernelspec": {
   "display_name": "Python 3",
   "language": "python",
   "name": "python3"
  },
  "language_info": {
   "codemirror_mode": {
    "name": "ipython",
    "version": 3
   },
   "file_extension": ".py",
   "mimetype": "text/x-python",
   "name": "python",
   "nbconvert_exporter": "python",
   "pygments_lexer": "ipython3",
   "version": "3.11.1"
  }
 },
 "nbformat": 4,
 "nbformat_minor": 2
}
