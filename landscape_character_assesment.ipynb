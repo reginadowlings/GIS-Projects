{
 "cells": [
  {
   "cell_type": "markdown",
   "metadata": {},
   "source": [
    "Ths project involves a detailed landscape character analysis of Ghana, and it focuses on the biophysical attributes.\n",
    "This includes an analysis and assessment of precipitation-evaporation index, Land Cover, Proximity to Water Bodies and CO2 Emissions.\n",
    "The timeframe for which data would be obtained is from (2021-01-01) to (2022- 01 - 01). Over a span of one year\n",
    "Raster data for analysis and visualization would be otained from Google's Earth Engine via the python earth engine library\n",
    "For visualization, geemap would be used for a vsual representations of the biophysical attributes. "
   ]
  },
  {
   "cell_type": "code",
   "execution_count": null,
   "metadata": {},
   "outputs": [],
   "source": []
  },
  {
   "cell_type": "markdown",
   "metadata": {},
   "source": [
    "BREAKDOWN OF THE TASK FOR THE LANDSCAPE CHARACTER ASSESSMENT\n",
    "\n",
    "1. Defining the geographical extent of the region to be analyzed.\n",
    "2. Acquiring relevant geospatial raster datasets for analysis\n",
    "3. Preprocessing the acquired datasets for analysis\n",
    "4. Perfrming the landscape character assessment using advanced geospatial techniques, functions and tools\n",
    "5. Visualizing and communicating the findings using a suitable python visualization library "
   ]
  },
  {
   "cell_type": "code",
   "execution_count": null,
   "metadata": {},
   "outputs": [],
   "source": []
  },
  {
   "cell_type": "markdown",
   "metadata": {},
   "source": [
    "I tried authenticating earth engine in a jupyter notebook (in this environment), but the verification box wouldn't appear to paste the code in.\n",
    "Had to try the authentication in a different IDE which worked. The authentication code is in a python file name (pp.py) in this directory"
   ]
  },
  {
   "cell_type": "code",
   "execution_count": null,
   "metadata": {},
   "outputs": [],
   "source": []
  },
  {
   "cell_type": "code",
   "execution_count": 1,
   "metadata": {},
   "outputs": [],
   "source": [
    "# import necessary libraries to be used\n",
    "\n",
    "import ee\n",
    "import geemap"
   ]
  },
  {
   "cell_type": "code",
   "execution_count": 2,
   "metadata": {},
   "outputs": [
    {
     "data": {
      "text/html": [
       "\n",
       "            <style>\n",
       "                .geemap-dark {\n",
       "                    --jp-widgets-color: white;\n",
       "                    --jp-widgets-label-color: white;\n",
       "                    --jp-ui-font-color1: white;\n",
       "                    --jp-layout-color2: #454545;\n",
       "                    background-color: #383838;\n",
       "                }\n",
       "\n",
       "                .geemap-dark .jupyter-button {\n",
       "                    --jp-layout-color3: #383838;\n",
       "                }\n",
       "\n",
       "                .geemap-colab {\n",
       "                    background-color: var(--colab-primary-surface-color, white);\n",
       "                }\n",
       "\n",
       "                .geemap-colab .jupyter-button {\n",
       "                    --jp-layout-color3: var(--colab-primary-surface-color, white);\n",
       "                }\n",
       "            </style>\n",
       "            "
      ],
      "text/plain": [
       "<IPython.core.display.HTML object>"
      ]
     },
     "metadata": {},
     "output_type": "display_data"
    }
   ],
   "source": [
    "ee.Initialize(project = 'ee-reginadowlings')"
   ]
  },
  {
   "cell_type": "code",
   "execution_count": 3,
   "metadata": {},
   "outputs": [
    {
     "data": {
      "text/html": [
       "\n",
       "            <style>\n",
       "                .geemap-dark {\n",
       "                    --jp-widgets-color: white;\n",
       "                    --jp-widgets-label-color: white;\n",
       "                    --jp-ui-font-color1: white;\n",
       "                    --jp-layout-color2: #454545;\n",
       "                    background-color: #383838;\n",
       "                }\n",
       "\n",
       "                .geemap-dark .jupyter-button {\n",
       "                    --jp-layout-color3: #383838;\n",
       "                }\n",
       "\n",
       "                .geemap-colab {\n",
       "                    background-color: var(--colab-primary-surface-color, white);\n",
       "                }\n",
       "\n",
       "                .geemap-colab .jupyter-button {\n",
       "                    --jp-layout-color3: var(--colab-primary-surface-color, white);\n",
       "                }\n",
       "            </style>\n",
       "            "
      ],
      "text/plain": [
       "<IPython.core.display.HTML object>"
      ]
     },
     "metadata": {},
     "output_type": "display_data"
    }
   ],
   "source": [
    "# Defining the region of interest (Ghana)\n",
    "\n",
    "ghana = ee.Geometry.Rectangle([-3.317, 4.730, 1.192, 11.174])\n"
   ]
  },
  {
   "cell_type": "markdown",
   "metadata": {},
   "source": [
    "ACQUIRNG THE DATA SETS FROM EARTH ENGINE'S API. THIS DATA SETS INCLUDES ( precipitation-evaporation index, Land Cover, Proximity to Water Bodies and CO2 Emissions)."
   ]
  },
  {
   "cell_type": "code",
   "execution_count": 4,
   "metadata": {},
   "outputs": [
    {
     "data": {
      "text/html": [
       "\n",
       "            <style>\n",
       "                .geemap-dark {\n",
       "                    --jp-widgets-color: white;\n",
       "                    --jp-widgets-label-color: white;\n",
       "                    --jp-ui-font-color1: white;\n",
       "                    --jp-layout-color2: #454545;\n",
       "                    background-color: #383838;\n",
       "                }\n",
       "\n",
       "                .geemap-dark .jupyter-button {\n",
       "                    --jp-layout-color3: #383838;\n",
       "                }\n",
       "\n",
       "                .geemap-colab {\n",
       "                    background-color: var(--colab-primary-surface-color, white);\n",
       "                }\n",
       "\n",
       "                .geemap-colab .jupyter-button {\n",
       "                    --jp-layout-color3: var(--colab-primary-surface-color, white);\n",
       "                }\n",
       "            </style>\n",
       "            "
      ],
      "text/plain": [
       "<IPython.core.display.HTML object>"
      ]
     },
     "metadata": {},
     "output_type": "display_data"
    },
    {
     "data": {
      "application/vnd.jupyter.widget-view+json": {
       "model_id": "b65e27491c3e4e12a8bd66caa855092a",
       "version_major": 2,
       "version_minor": 0
      },
      "text/plain": [
       "Map(center=[8.3463813, -1.2661157], controls=(WidgetControl(options=['position', 'transparent_bg'], widget=Sea…"
      ]
     },
     "execution_count": 4,
     "metadata": {},
     "output_type": "execute_result"
    }
   ],
   "source": [
    "#Obtaining the precipitation-evaporation index of Ghana within the timeframe\n",
    "\n",
    "# retrieving dataset from the SPEI database (Standardised Precipitation-Evapotranspiration Index database) on earth engine\n",
    "pre_eva = ee.ImageCollection(\"CSIC/SPEI/2_9\")\\\n",
    ".filterDate('2021-01-01' ,'2022-01-01')\n",
    "\n",
    "\n",
    "# selecting data for 12-months analysis\n",
    "analysis = pre_eva.select('SPEI_12_month')\n",
    "\n",
    "\n",
    "#  Set the visualization ranges and color palette.\n",
    "visParams = {\n",
    "  'min': -2.33,\n",
    "  'max':  2.33,\n",
    "  'palette' : ['8b1a1a', 'de2929', 'f3641d',\n",
    "    'fdc404', '9afa94', '03f2fd',\n",
    "    '12adf3', '1771de', '00008b',\n",
    "      \n",
    "  ]\n",
    "\n",
    "}\n",
    "\n",
    "# selecting the region of interest against the data\n",
    "gh_spei = analysis.filterBounds(ghana)\n",
    "\n",
    "\n",
    "# centering the map\n",
    "center_map = geemap.Map(center = [8.3463813, -1.2661157] )\n",
    "\n",
    "\n",
    "# lets visualize the map of Ghana\n",
    "center_map.add_layer(ghana, {}, 'Ghana demarcation')\n",
    "center_map.add_layer(analysis, visParams, 'SPEI_12_MONTHS')\n",
    "\n",
    "center_map"
   ]
  },
  {
   "cell_type": "markdown",
   "metadata": {},
   "source": [
    "The blue color at the south-western part of Ghana indicates a good spei index as it is the forest belt of Ghana endowed with many trees and tropical rain forests. However, the northern part of the country known as the Savannah belt is dry with litle to no less rain, indicating a poor spei index. "
   ]
  },
  {
   "cell_type": "code",
   "execution_count": null,
   "metadata": {},
   "outputs": [],
   "source": []
  },
  {
   "cell_type": "markdown",
   "metadata": {},
   "source": [
    "Obtaining and analysing land cover datasets     "
   ]
  },
  {
   "cell_type": "code",
   "execution_count": 5,
   "metadata": {},
   "outputs": [
    {
     "data": {
      "text/html": [
       "\n",
       "            <style>\n",
       "                .geemap-dark {\n",
       "                    --jp-widgets-color: white;\n",
       "                    --jp-widgets-label-color: white;\n",
       "                    --jp-ui-font-color1: white;\n",
       "                    --jp-layout-color2: #454545;\n",
       "                    background-color: #383838;\n",
       "                }\n",
       "\n",
       "                .geemap-dark .jupyter-button {\n",
       "                    --jp-layout-color3: #383838;\n",
       "                }\n",
       "\n",
       "                .geemap-colab {\n",
       "                    background-color: var(--colab-primary-surface-color, white);\n",
       "                }\n",
       "\n",
       "                .geemap-colab .jupyter-button {\n",
       "                    --jp-layout-color3: var(--colab-primary-surface-color, white);\n",
       "                }\n",
       "            </style>\n",
       "            "
      ],
      "text/plain": [
       "<IPython.core.display.HTML object>"
      ]
     },
     "metadata": {},
     "output_type": "display_data"
    },
    {
     "data": {
      "application/vnd.jupyter.widget-view+json": {
       "model_id": "6f908ef35e63405da9f6cf3321374695",
       "version_major": 2,
       "version_minor": 0
      },
      "text/plain": [
       "Map(center=[8.3463813, -1.2661157], controls=(WidgetControl(options=['position', 'transparent_bg'], widget=Sea…"
      ]
     },
     "execution_count": 5,
     "metadata": {},
     "output_type": "execute_result"
    }
   ],
   "source": [
    "# reading the land cover data from copernicus, filtering out the roi, date frame and cloud  cover \n",
    "\n",
    "land_cover = ee.ImageCollection(\"LANDSAT/LC08/C02/T1_L2\")\\\n",
    ".filterDate('2021-01-01', '2022-01-01') \\\n",
    ".filterBounds(ghana)\n",
    "\n",
    "\n",
    "\n",
    "# Applies scaling factors.\n",
    "def apply_scale_factors(image):\n",
    "  optical_bands = image.select('SR_B.').multiply(0.0000275).add(-0.2)\n",
    "  thermal_bands = image.select('ST_B.*').multiply(0.00341802).add(149.0)\n",
    "  return image.addBands(optical_bands, None, True).addBands(\n",
    "      thermal_bands, None, True\n",
    "  )\n",
    "\n",
    "land_cover = land_cover.map(apply_scale_factors)\n",
    "\n",
    "\n",
    "# removing cloud contamination, defining a function to mask out cloudy pixels\n",
    "def maskClouds(image):\n",
    "    qa = image.select('QA_PIXEL')\n",
    "    # Create a mask to identify cloudy pixels (bit 4 for clouds)\n",
    "    cloud_mask = qa.bitwiseAnd(1 << 4).eq(0)\n",
    "    # Apply the mask to the image\n",
    "    return image.updateMask(cloud_mask)\n",
    "\n",
    "\n",
    "# Applying the cloud mask function to each image in the collection\n",
    "landsat_masked = land_cover.map(maskClouds)\n",
    "\n",
    "\n",
    "# Take the median of the masked images to create a cloud-free composite\n",
    "composite = landsat_masked.median()\n",
    "\n",
    "\n",
    "# colors for map to be visualized in\n",
    "visualization = {\n",
    "    'bands': ['SR_B4', 'SR_B3', 'SR_B2'],\n",
    "    'min': 0.0,\n",
    "    'max': 0.3,\n",
    "}\n",
    "\n",
    "\n",
    "lc_map = geemap.Map(center = [8.3463813, -1.2661157])\n",
    "\n",
    "lc_map.add_layer(ghana, {}, 'Ghana')\n",
    "lc_map.add_layer(composite, visualization, 'Landsat')\n",
    "\n",
    "lc_map"
   ]
  },
  {
   "cell_type": "code",
   "execution_count": null,
   "metadata": {},
   "outputs": [],
   "source": []
  },
  {
   "cell_type": "code",
   "execution_count": 6,
   "metadata": {},
   "outputs": [
    {
     "data": {
      "text/html": [
       "\n",
       "            <style>\n",
       "                .geemap-dark {\n",
       "                    --jp-widgets-color: white;\n",
       "                    --jp-widgets-label-color: white;\n",
       "                    --jp-ui-font-color1: white;\n",
       "                    --jp-layout-color2: #454545;\n",
       "                    background-color: #383838;\n",
       "                }\n",
       "\n",
       "                .geemap-dark .jupyter-button {\n",
       "                    --jp-layout-color3: #383838;\n",
       "                }\n",
       "\n",
       "                .geemap-colab {\n",
       "                    background-color: var(--colab-primary-surface-color, white);\n",
       "                }\n",
       "\n",
       "                .geemap-colab .jupyter-button {\n",
       "                    --jp-layout-color3: var(--colab-primary-surface-color, white);\n",
       "                }\n",
       "            </style>\n",
       "            "
      ],
      "text/plain": [
       "<IPython.core.display.HTML object>"
      ]
     },
     "metadata": {},
     "output_type": "display_data"
    }
   ],
   "source": [
    "# Analysing the datasets of the precipitation-evaporation index\n",
    "\n",
    "# calculating the spe index is (spei = precipitation.subtract(pet).divide(precipitation).reduce(ee.Reducer.mean()))\n",
    "\n",
    "precipitation = analysis.select('Precipitaion')\n",
    "\n",
    "# potential evapotranspiration data \n",
    "transpiration = analysis.select('PET')\n",
    "\n",
    "\n",
    "# spei = precipitation.subtract(transpiration).divide(precipitation).reduce(ee.Reducer.mean())\n",
    "\n",
    "# spei.get_info()"
   ]
  },
  {
   "cell_type": "markdown",
   "metadata": {},
   "source": [
    "Analysing the land cover datasets.\n",
    "The project expects to identify and categorize land cover types such as dense, medium, and sparse vegetation\n",
    "and rocky areas. With this, the NDVI (Normalized Difference Vegetation Index) would be used to calculate the vegetation types. It is used to quantify vegetation greenness. "
   ]
  },
  {
   "cell_type": "code",
   "execution_count": 27,
   "metadata": {},
   "outputs": [
    {
     "data": {
      "text/html": [
       "\n",
       "            <style>\n",
       "                .geemap-dark {\n",
       "                    --jp-widgets-color: white;\n",
       "                    --jp-widgets-label-color: white;\n",
       "                    --jp-ui-font-color1: white;\n",
       "                    --jp-layout-color2: #454545;\n",
       "                    background-color: #383838;\n",
       "                }\n",
       "\n",
       "                .geemap-dark .jupyter-button {\n",
       "                    --jp-layout-color3: #383838;\n",
       "                }\n",
       "\n",
       "                .geemap-colab {\n",
       "                    background-color: var(--colab-primary-surface-color, white);\n",
       "                }\n",
       "\n",
       "                .geemap-colab .jupyter-button {\n",
       "                    --jp-layout-color3: var(--colab-primary-surface-color, white);\n",
       "                }\n",
       "            </style>\n",
       "            "
      ],
      "text/plain": [
       "<IPython.core.display.HTML object>"
      ]
     },
     "metadata": {},
     "output_type": "display_data"
    },
    {
     "data": {
      "application/vnd.jupyter.widget-view+json": {
       "model_id": "f47c91606bff44ae8c8638dd43463996",
       "version_major": 2,
       "version_minor": 0
      },
      "text/plain": [
       "Map(center=[0, 0], controls=(WidgetControl(options=['position', 'transparent_bg'], widget=SearchDataGUI(childr…"
      ]
     },
     "execution_count": 27,
     "metadata": {},
     "output_type": "execute_result"
    }
   ],
   "source": [
    "# Formula for calculating vegetation types using NDVI is ; \n",
    "\n",
    "# NDVI = (Band 5 - Band 4) / (Band 5 + Band 4)   \n",
    "# OR\n",
    "#NDVI = (NIR + Red) / (NIR−Red)  Where NIR (Near -Infrared Radiation) is Band 5  and Red is band 4\n",
    "\n",
    "# NB :: Very low values of NDVI (0.1 and below) correspond to barren areas of rock, sand, or snow. \n",
    "# Moderate values represent shrub and grassland (0.2 to 0.3), while high values indicate temperate and tropical rainforests (0.6 to 0.8).\n",
    "\n",
    "\n",
    "\n",
    "# creating a function to calculate NDVI\n",
    "\n",
    "def ndvi(image):\n",
    "    \n",
    "    b5 = image.select('SR_B5')  # NIR band (band 5)\n",
    "    b4 = image.select('SR_B4')  # Red band (band 4)\n",
    "\n",
    "    # Calculate NDVI\n",
    "    ndvi = b5.subtract(b4).divide(b5.add(b4)).rename('NDVI')\n",
    "\n",
    "    return image.addBands(ndvi)\n",
    "\n",
    "\n",
    "# applying the ndvi function on the land cover data\n",
    "l8_ndvi = landsat_masked.map(ndvi)\n",
    "\n",
    "\n",
    "# Visualizing the NDVI image\n",
    "\n",
    "visparameters = {\n",
    "    'min': -1,\n",
    "    'max': 1,\n",
    "    'bands': ['NDVI'],\n",
    "    'palette': ['#e5f5f9', '#feb24c', '#31a354']\n",
    "\n",
    "}\n",
    "\n",
    "\n",
    "# setting legend parameters\n",
    "\n",
    "legend_dict = {\n",
    "    '<1' : '#e5f5f9',\n",
    "    '>= 0.2 and <= 0.3' : '#feb24c',\n",
    "    '>= 0.6 and <= 0.8' : '#31a354'\n",
    "\n",
    "} \n",
    "\n",
    "\n",
    "# get the median of the image collection\n",
    "median = l8_ndvi.median()\n",
    "\n",
    "ndvi_map = geemap.Map()\n",
    "ndvi_map.add_layer(ghana, {}, 'Ghana')\n",
    "ndvi_map.add_layer(median, visparameters, 'Vegetation Map')\n",
    "ndvi_map.add_legend(title= 'NDVI Legend', legend_dict= legend_dict, position='bottomright', draggable=True)\n",
    "\n",
    "\n",
    "ndvi_map "
   ]
  },
  {
   "cell_type": "markdown",
   "metadata": {},
   "source": [
    "From the map displayed above, within a span of a year, the green areas show dense vegatation or land cover. This is mostly seen at the western, southern and Eastern parts of Ghana. However, the northern part records a medium vegetation cover due to it's location, high amount of solar heat and less rain in this region. Ghana is located in the tropical forest region hence, vegetation grows all year round, which is a reason for no white color\n",
    "trcaes in the map."
   ]
  },
  {
   "cell_type": "code",
   "execution_count": null,
   "metadata": {},
   "outputs": [],
   "source": []
  },
  {
   "cell_type": "code",
   "execution_count": null,
   "metadata": {},
   "outputs": [],
   "source": []
  },
  {
   "cell_type": "code",
   "execution_count": null,
   "metadata": {},
   "outputs": [],
   "source": [
    "\n",
    "\n"
   ]
  },
  {
   "cell_type": "code",
   "execution_count": null,
   "metadata": {},
   "outputs": [],
   "source": []
  }
 ],
 "metadata": {
  "kernelspec": {
   "display_name": "Python 3",
   "language": "python",
   "name": "python3"
  },
  "language_info": {
   "codemirror_mode": {
    "name": "ipython",
    "version": 3
   },
   "file_extension": ".py",
   "mimetype": "text/x-python",
   "name": "python",
   "nbconvert_exporter": "python",
   "pygments_lexer": "ipython3",
   "version": "3.11.1"
  }
 },
 "nbformat": 4,
 "nbformat_minor": 2
}
